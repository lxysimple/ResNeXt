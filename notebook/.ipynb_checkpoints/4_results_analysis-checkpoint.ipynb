{
 "cells": [
  {
   "cell_type": "markdown",
   "metadata": {
    "scrolled": true
   },
   "source": [
    "# resnext-29 训练结果 等周末跑完贴图"
   ]
  },
  {
   "cell_type": "markdown",
   "metadata": {},
   "source": [
    "\n",
    "待定 周末补充：\n",
    "img src=\"./imgs/resnext29_32x4dresults.png\"  width=\"700\" height=\"700\" align=\"bottom\" />\n",
    "\n",
    "gtx 1660ti , 耗时2小时6分钟\n"
   ]
  },
  {
   "cell_type": "markdown",
   "metadata": {},
   "source": [
    "<img src=\"imgs/acc.png\" width=\"300\" heigh=\"300\"> \n",
    "\n",
    "\n",
    "\n",
    "<img src=\"imgs/cifar10-curve.png\" width=\"500\" heigh=\"500\">\n"
   ]
  },
  {
   "cell_type": "code",
   "execution_count": null,
   "metadata": {},
   "outputs": [],
   "source": []
  }
 ],
 "metadata": {
  "kernelspec": {
   "display_name": "pytorch_1.4_gpu",
   "language": "python",
   "name": "pytorch_1.4_gpu"
  },
  "language_info": {
   "codemirror_mode": {
    "name": "ipython",
    "version": 3
   },
   "file_extension": ".py",
   "mimetype": "text/x-python",
   "name": "python",
   "nbconvert_exporter": "python",
   "pygments_lexer": "ipython3",
   "version": "3.6.10"
  }
 },
 "nbformat": 4,
 "nbformat_minor": 4
}
