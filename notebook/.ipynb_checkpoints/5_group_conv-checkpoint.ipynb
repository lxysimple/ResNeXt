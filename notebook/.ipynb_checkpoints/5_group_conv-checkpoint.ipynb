{
 "cells": [
  {
   "cell_type": "markdown",
   "metadata": {
    "scrolled": true
   },
   "source": [
    "# 分组卷积"
   ]
  },
  {
   "attachments": {},
   "cell_type": "markdown",
   "metadata": {},
   "source": [
    "定义：对输入的特征图平均划分为N个组，每个组内进行常规卷积，N个组得到的特征图按通道维度拼接，进行输出\n",
    "<img src=\"./imgs/groupconv.png\" width=\"700\" height=\"500\">\n",
    "<img src=\"./imgs/alexnet.png\" width=\"700\" height=\"500\">\n",
    "\n",
    "Conv : $C\\ast K\\ast K\\ast N = 12\\ast 3\\ast 3\\ast 6 = 432 $   \n",
    "Group Conv: $\\frac{C}{G}\\ast  K\\ast K\\ast N = \\frac{12}{3}\\ast 3\\ast 3\\ast 6=144$\n",
    "\n",
    "假设分组数=3  \n",
    "参数减少 432/144 = 3  = 分组数"
   ]
  },
  {
   "cell_type": "markdown",
   "metadata": {},
   "source": [
    "### 分组卷积超参讲解\n",
    "\n",
    "分组卷积的分组数必须能被输入通道数整除，以及输出通道数整除"
   ]
  },
  {
   "cell_type": "code",
   "execution_count": 6,
   "metadata": {},
   "outputs": [
    {
     "name": "stdout",
     "output_type": "stream",
     "text": [
      "torch.Size([1, 8, 17, 17])\n"
     ]
    }
   ],
   "source": [
    "    import torch\n",
    "    import torch.nn as nn\n",
    "    in_channels = 16     # 15 \n",
    "    out_channels = 8     # 7\n",
    "    groups = 4\n",
    "    \n",
    "    fake_img = torch.randn(1, in_channels, 17, 17)\n",
    "    group_conv_layer = nn.Conv2d(in_channels, out_channels, 3, padding=1, groups=groups)\n",
    "    f_map = group_conv_layer(fake_img)\n",
    "    \n",
    "    print(f_map.shape)"
   ]
  },
  {
   "cell_type": "markdown",
   "metadata": {},
   "source": [
    "# 分组卷积优点\n",
    "\n",
    "1. 减少参数量，从上述例子可看出，分组卷积可减少参数至 $\\frac{1}{G}$ ，G为分组数\n",
    "2. 组卷积可看成正常卷积的稀疏结构，即与其它组特征图相连接的权重为0,可视为一种正则\n",
    "3. 极限组卷积——Depth-Wise Convolution，逐通道卷积可进一步减少参数\n",
    "<img src=\"./imgs/depth-wise.png\" width=\"700\" height=\"500\">"
   ]
  },
  {
   "cell_type": "code",
   "execution_count": null,
   "metadata": {},
   "outputs": [],
   "source": []
  }
 ],
 "metadata": {
  "kernelspec": {
   "display_name": "pytorch_1.4_gpu",
   "language": "python",
   "name": "pytorch_1.4_gpu"
  },
  "language_info": {
   "codemirror_mode": {
    "name": "ipython",
    "version": 3
   },
   "file_extension": ".py",
   "mimetype": "text/x-python",
   "name": "python",
   "nbconvert_exporter": "python",
   "pygments_lexer": "ipython3",
   "version": "3.6.10"
  }
 },
 "nbformat": 4,
 "nbformat_minor": 4
}
