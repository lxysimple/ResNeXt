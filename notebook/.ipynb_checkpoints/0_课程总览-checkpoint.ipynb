{
 "cells": [
  {
   "cell_type": "markdown",
   "metadata": {},
   "source": [
    "# Aggregated Residual Transformations for Deep Neural Networks \n",
    "# 导师：余老师"
   ]
  },
  {
   "cell_type": "markdown",
   "metadata": {},
   "source": [
    "# 1 前言\n",
    "## 1.1课程回顾\n",
    "<img src=\"./imgs/review2.png\"  width=\"700\" height=\"700\" align=\"bottom\" />"
   ]
  },
  {
   "cell_type": "markdown",
   "metadata": {},
   "source": [
    "### ResNeXt architecture\n",
    "<img src=\"./imgs/arch.png\"  width=\"500\" height=\"500\" align=\"bottom\" />"
   ]
  },
  {
   "cell_type": "markdown",
   "metadata": {},
   "source": [
    "## 1.2 ResNeXt 代码结构\n",
    "<img src=\"./imgs/prj_struct1.png\"  width=\"300\" height=\"400\" align=\"left\" />"
   ]
  },
  {
   "cell_type": "markdown",
   "metadata": {},
   "source": [
    "# 2 准备工作\n",
    "## 2.1项目环境配置\n",
    " \n",
    "* Python 3.x\n",
    "* jupyter notebook\n",
    "* torch           >1.0\n",
    "* torchsummary    1.5.1\n",
    "* torchvision     0.4.0+cu92\n",
    "* Pillow          6.1.0\n",
    "* numpy           1.17.0\n",
    "* opencv-python   4.1.2.30\n",
    "* imageio 2.6.1\n"
   ]
  },
  {
   "cell_type": "markdown",
   "metadata": {},
   "source": [
    "## 2.2 数据集下载\n",
    "　　Cifar-10 在http://www.cs.toronto.edu/~kriz/cifar.html  上下载\n",
    " \n",
    "### 数据简介\n",
    "The CIFAR-10 dataset consists of 60000 32x32 colour images in 10 classes, with 6000 images per class. There are 50000 training images and 10000 test images.\n",
    "    \n",
    "### 真实样本\n",
    "   \n",
    "<img src=\"./imgs/dataset.png\"  width=\"500\" height=\"500\" align=\"bottom\" /> \n",
    "\n",
    "### 数据存放\n",
    "<img src=\"./imgs/data.png\"  width=\"300\" height=\"700\" align=\"bottom\" /> \n"
   ]
  },
  {
   "cell_type": "markdown",
   "metadata": {},
   "source": [
    "  \n",
    "## 2.3 预训练权重下载\n",
    "    'resnext50_32x4d': 'https://download.pytorch.org/models/resnext50_32x4d-7cdf4587.pth',  \n",
    "    'resnext101_32x8d': 'https://download.pytorch.org/models/resnext101_32x8d-8ba56ff5.pth',  \n",
    "    \n",
    "    'resnet18': 'https://download.pytorch.org/models/resnet18-5c106cde.pth',\n",
    "    'resnet34': 'https://download.pytorch.org/models/resnet34-333f7ec4.pth',\n",
    "    'resnet50': 'https://download.pytorch.org/models/resnet50-19c8e357.pth',\n",
    "    'resnet101': 'https://download.pytorch.org/models/resnet101-5d3b4d8f.pth',\n",
    "    'resnet152': 'https://download.pytorch.org/models/resnet152-b121ed2d.pth',  \n",
    "    \n",
    "放到: F:\\cv_paper\\lesson\\H_ResNeXt\\data"
   ]
  },
  {
   "cell_type": "markdown",
   "metadata": {},
   "source": [
    "# 3 项目代码结构（pycharm中演示）\n",
    "\n",
    "## 3.1 resnext_inference.py\n",
    "    \n",
    "    采用在Imagenet上预训练的ResNeXt-50_32x4d 模型进行分类测试 （跳转pycharm，观察效果）\n",
    "\n",
    "\n",
    "## 3.2 train_resnext.py\n",
    "    \n",
    "    构建一个resnext-29，在cifar-10上参照ResNet-20的超参进行训练（跳转pycharm，观察效果）"
   ]
  },
  {
   "cell_type": "markdown",
   "metadata": {},
   "source": [
    "# 4 算法模块及细节\n",
    "\n",
    "### 4.1  resnext_inference.py中各函数模块详解（跳转 1_inference.ipynb 结合 2_resnext_arch.ipynb讲解ResNet网络结构定义）\n",
    " \n",
    "### 4.2 train_resnext.py 中各函数模块详解（跳转3_common_tools.ipynb 结合 4_results_analysis.ipynb讲解各函数）\n"
   ]
  },
  {
   "cell_type": "markdown",
   "metadata": {},
   "source": [
    "# 5 Pycharm整体演示\n",
    "\n",
    "　　回到pycharm环境中回顾一下项目工程"
   ]
  },
  {
   "cell_type": "markdown",
   "metadata": {},
   "source": [
    "# 6 作业\n",
    "\n",
    "    1：文字回答：用自己的语言描述 split-transform-merge是怎样一个过程.\n",
    "    2：文字回答：ResNeXt-50中的32 x 4d分别表示什么？\n",
    "    3：文字回答：分组卷积能减少多少参数？（输入通道数、输出通道数均一致的情况下）\n",
    "    4：文字回答：读完该论文，对你的启发点有哪些？\n",
    "    5：代码实现：在cifar-10上训练一个resnext29，将训练曲线，混淆矩阵图等信息贴出来分享\n"
   ]
  },
  {
   "cell_type": "code",
   "execution_count": null,
   "metadata": {},
   "outputs": [],
   "source": []
  }
 ],
 "metadata": {
  "colab": {
   "authorship_tag": "ABX9TyMaJPtlMHur6DonwEyZLw5h",
   "collapsed_sections": [],
   "name": "data process and load.ipynb",
   "provenance": []
  },
  "kernelspec": {
   "display_name": "pytorch_1.4_gpu",
   "language": "python",
   "name": "pytorch_1.4_gpu"
  },
  "language_info": {
   "codemirror_mode": {
    "name": "ipython",
    "version": 3
   },
   "file_extension": ".py",
   "mimetype": "text/x-python",
   "name": "python",
   "nbconvert_exporter": "python",
   "pygments_lexer": "ipython3",
   "version": "3.6.10"
  }
 },
 "nbformat": 4,
 "nbformat_minor": 1
}
